{
 "cells": [
  {
   "cell_type": "markdown",
   "id": "d2f0a96b",
   "metadata": {},
   "source": [
    "# Elementary Data Analysis of 2019 College Football Passing Statistics"
   ]
  },
  {
   "cell_type": "markdown",
   "id": "3b61d33c",
   "metadata": {},
   "source": [
    "#### John Ajit"
   ]
  },
  {
   "cell_type": "markdown",
   "id": "b541d401",
   "metadata": {},
   "source": [
    "### About the Data\n",
    "\n",
    "For this assignment, I have taken data from sports-reference.com, a site which uses hosts a variety of different datasets for various sports such as football, basketball, and baseball, both professional and collegiate. For the data that I have chosen, more specifically, the data focuses on a quarterback's passing metrics, Passing Yards, Interceptions, Yards Per Attempt, and more. My hope in the analysis of this dataset is to find out more about a quarterback's performance overall, how they perform relative to their peers and which conference has some of the best quarterbacks. I also was interested in seeeing how a team's defense against the passing game would relate to team success. Ultimately, I hope to see how passing overall, whether it be offensive or defensive, relates to team success.\n"
   ]
  },
  {
   "cell_type": "markdown",
   "id": "0fcbf1dd",
   "metadata": {},
   "source": [
    "### Importing Libraries and Loading the Data\n",
    "\n",
    "To help in analysis, I imported pandas and numpy to help in data manipulation and matplotlib for visualizing the data using scatter plots.  "
   ]
  },
  {
   "cell_type": "code",
   "execution_count": 1,
   "id": "fdc9ca89",
   "metadata": {},
   "outputs": [],
   "source": [
    "import pandas as pd\n",
    "import numpy as np\n",
    "%matplotlib inline\n",
    "import matplotlib.pyplot as plt\n",
    "import seaborn as sns\n",
    "sns.set(style = \"darkgrid\")\n"
   ]
  },
  {
   "cell_type": "markdown",
   "id": "12b80c1b",
   "metadata": {},
   "source": [
    "Below, we are reading in our dataset and ensuring that it is outputting correctly, while also being properly formatted "
   ]
  },
  {
   "cell_type": "code",
   "execution_count": 2,
   "id": "d090a3bd",
   "metadata": {},
   "outputs": [],
   "source": [
    "df = pd.read_csv(\"DataSets/2019 Passing Leaders CFB.csv\")"
   ]
  },
  {
   "cell_type": "code",
   "execution_count": 3,
   "id": "905f1e2f",
   "metadata": {
    "scrolled": true
   },
   "outputs": [
    {
     "data": {
      "text/html": [
       "<div>\n",
       "<style scoped>\n",
       "    .dataframe tbody tr th:only-of-type {\n",
       "        vertical-align: middle;\n",
       "    }\n",
       "\n",
       "    .dataframe tbody tr th {\n",
       "        vertical-align: top;\n",
       "    }\n",
       "\n",
       "    .dataframe thead th {\n",
       "        text-align: right;\n",
       "    }\n",
       "</style>\n",
       "<table border=\"1\" class=\"dataframe\">\n",
       "  <thead>\n",
       "    <tr style=\"text-align: right;\">\n",
       "      <th></th>\n",
       "      <th>Rk</th>\n",
       "      <th>Player</th>\n",
       "      <th>School</th>\n",
       "      <th>Conf</th>\n",
       "      <th>G</th>\n",
       "      <th>Cmp</th>\n",
       "      <th>Att</th>\n",
       "      <th>Pct</th>\n",
       "      <th>Yds</th>\n",
       "      <th>Y/A</th>\n",
       "      <th>AY/A</th>\n",
       "      <th>TD</th>\n",
       "      <th>Int</th>\n",
       "      <th>Rate</th>\n",
       "      <th>Att</th>\n",
       "      <th>Yds</th>\n",
       "      <th>Avg</th>\n",
       "      <th>TD</th>\n",
       "    </tr>\n",
       "  </thead>\n",
       "  <tbody>\n",
       "    <tr>\n",
       "      <th>1</th>\n",
       "      <td>1</td>\n",
       "      <td>Jalen Hurts*</td>\n",
       "      <td>Oklahoma</td>\n",
       "      <td>Big 12</td>\n",
       "      <td>14</td>\n",
       "      <td>237</td>\n",
       "      <td>340</td>\n",
       "      <td>69.7</td>\n",
       "      <td>3851</td>\n",
       "      <td>11.3</td>\n",
       "      <td>12.2</td>\n",
       "      <td>32</td>\n",
       "      <td>8</td>\n",
       "      <td>191.2</td>\n",
       "      <td>233</td>\n",
       "      <td>1298</td>\n",
       "      <td>5.6</td>\n",
       "      <td>20</td>\n",
       "    </tr>\n",
       "    <tr>\n",
       "      <th>2</th>\n",
       "      <td>2</td>\n",
       "      <td>Joe Burrow*</td>\n",
       "      <td>LSU</td>\n",
       "      <td>SEC</td>\n",
       "      <td>15</td>\n",
       "      <td>402</td>\n",
       "      <td>527</td>\n",
       "      <td>76.3</td>\n",
       "      <td>5671</td>\n",
       "      <td>10.8</td>\n",
       "      <td>12.5</td>\n",
       "      <td>60</td>\n",
       "      <td>6</td>\n",
       "      <td>202</td>\n",
       "      <td>115</td>\n",
       "      <td>368</td>\n",
       "      <td>3.2</td>\n",
       "      <td>5</td>\n",
       "    </tr>\n",
       "    <tr>\n",
       "      <th>3</th>\n",
       "      <td>3</td>\n",
       "      <td>Tyler Huntley*</td>\n",
       "      <td>Utah</td>\n",
       "      <td>Pac-12</td>\n",
       "      <td>14</td>\n",
       "      <td>220</td>\n",
       "      <td>301</td>\n",
       "      <td>73.1</td>\n",
       "      <td>3092</td>\n",
       "      <td>10.3</td>\n",
       "      <td>10.9</td>\n",
       "      <td>19</td>\n",
       "      <td>4</td>\n",
       "      <td>177.6</td>\n",
       "      <td>104</td>\n",
       "      <td>290</td>\n",
       "      <td>2.8</td>\n",
       "      <td>5</td>\n",
       "    </tr>\n",
       "    <tr>\n",
       "      <th>4</th>\n",
       "      <td>4</td>\n",
       "      <td>Tanner Morgan*</td>\n",
       "      <td>Minnesota</td>\n",
       "      <td>Big Ten</td>\n",
       "      <td>13</td>\n",
       "      <td>210</td>\n",
       "      <td>318</td>\n",
       "      <td>66</td>\n",
       "      <td>3253</td>\n",
       "      <td>10.2</td>\n",
       "      <td>11.1</td>\n",
       "      <td>30</td>\n",
       "      <td>7</td>\n",
       "      <td>178.7</td>\n",
       "      <td>61</td>\n",
       "      <td>-57</td>\n",
       "      <td>-0.9</td>\n",
       "      <td>1</td>\n",
       "    </tr>\n",
       "    <tr>\n",
       "      <th>5</th>\n",
       "      <td>5</td>\n",
       "      <td>Trey Lance</td>\n",
       "      <td>North Dakota State</td>\n",
       "      <td>MVC</td>\n",
       "      <td>16</td>\n",
       "      <td>192</td>\n",
       "      <td>287</td>\n",
       "      <td>66.9</td>\n",
       "      <td>2786</td>\n",
       "      <td>9.7</td>\n",
       "      <td>11.7</td>\n",
       "      <td>28</td>\n",
       "      <td>0</td>\n",
       "      <td>180.6</td>\n",
       "      <td>169</td>\n",
       "      <td>1100</td>\n",
       "      <td>6.5</td>\n",
       "      <td>14</td>\n",
       "    </tr>\n",
       "  </tbody>\n",
       "</table>\n",
       "</div>"
      ],
      "text/plain": [
       "0 Rk          Player              School     Conf   G  Cmp  Att   Pct   Yds  \\\n",
       "1  1    Jalen Hurts*            Oklahoma   Big 12  14  237  340  69.7  3851   \n",
       "2  2     Joe Burrow*                 LSU      SEC  15  402  527  76.3  5671   \n",
       "3  3  Tyler Huntley*                Utah   Pac-12  14  220  301  73.1  3092   \n",
       "4  4  Tanner Morgan*           Minnesota  Big Ten  13  210  318    66  3253   \n",
       "5  5      Trey Lance  North Dakota State      MVC  16  192  287  66.9  2786   \n",
       "\n",
       "0   Y/A  AY/A  TD Int   Rate  Att   Yds   Avg  TD  \n",
       "1  11.3  12.2  32   8  191.2  233  1298   5.6  20  \n",
       "2  10.8  12.5  60   6    202  115   368   3.2   5  \n",
       "3  10.3  10.9  19   4  177.6  104   290   2.8   5  \n",
       "4  10.2  11.1  30   7  178.7   61   -57  -0.9   1  \n",
       "5   9.7  11.7  28   0  180.6  169  1100   6.5  14  "
      ]
     },
     "execution_count": 3,
     "metadata": {},
     "output_type": "execute_result"
    }
   ],
   "source": [
    "df.columns = df.iloc[0]\n",
    "df = df[1:]\n",
    "df.head()\n",
    "\n"
   ]
  },
  {
   "cell_type": "markdown",
   "id": "9edc2446",
   "metadata": {},
   "source": [
    "As it can be seen above, there are a couple columns that have repeating column names such as \"Passing Yards\" and \"Rushing Yards\" both just being identified as \"Yds\". Below, I changed the column names of each of the redundant column names, so passing and rushing could be diffrentiated. "
   ]
  },
  {
   "cell_type": "code",
   "execution_count": 4,
   "id": "484b6627",
   "metadata": {
    "scrolled": false
   },
   "outputs": [
    {
     "data": {
      "text/html": [
       "<div>\n",
       "<style scoped>\n",
       "    .dataframe tbody tr th:only-of-type {\n",
       "        vertical-align: middle;\n",
       "    }\n",
       "\n",
       "    .dataframe tbody tr th {\n",
       "        vertical-align: top;\n",
       "    }\n",
       "\n",
       "    .dataframe thead th {\n",
       "        text-align: right;\n",
       "    }\n",
       "</style>\n",
       "<table border=\"1\" class=\"dataframe\">\n",
       "  <thead>\n",
       "    <tr style=\"text-align: right;\">\n",
       "      <th></th>\n",
       "      <th>Rk</th>\n",
       "      <th>Player</th>\n",
       "      <th>School</th>\n",
       "      <th>Conf</th>\n",
       "      <th>G</th>\n",
       "      <th>Cmp</th>\n",
       "      <th>PAtt</th>\n",
       "      <th>Pct</th>\n",
       "      <th>PYds</th>\n",
       "      <th>Y/A</th>\n",
       "      <th>AY/A</th>\n",
       "      <th>PTD</th>\n",
       "      <th>Int</th>\n",
       "      <th>QBR</th>\n",
       "      <th>RAtt</th>\n",
       "      <th>RYds</th>\n",
       "      <th>Avg</th>\n",
       "      <th>RTD</th>\n",
       "    </tr>\n",
       "  </thead>\n",
       "  <tbody>\n",
       "    <tr>\n",
       "      <th>1</th>\n",
       "      <td>1</td>\n",
       "      <td>Jalen Hurts*</td>\n",
       "      <td>Oklahoma</td>\n",
       "      <td>Big 12</td>\n",
       "      <td>14</td>\n",
       "      <td>237</td>\n",
       "      <td>340</td>\n",
       "      <td>69.7</td>\n",
       "      <td>3851</td>\n",
       "      <td>11.3</td>\n",
       "      <td>12.2</td>\n",
       "      <td>32</td>\n",
       "      <td>8</td>\n",
       "      <td>191.2</td>\n",
       "      <td>233</td>\n",
       "      <td>1298</td>\n",
       "      <td>5.6</td>\n",
       "      <td>20</td>\n",
       "    </tr>\n",
       "    <tr>\n",
       "      <th>2</th>\n",
       "      <td>2</td>\n",
       "      <td>Joe Burrow*</td>\n",
       "      <td>LSU</td>\n",
       "      <td>SEC</td>\n",
       "      <td>15</td>\n",
       "      <td>402</td>\n",
       "      <td>527</td>\n",
       "      <td>76.3</td>\n",
       "      <td>5671</td>\n",
       "      <td>10.8</td>\n",
       "      <td>12.5</td>\n",
       "      <td>60</td>\n",
       "      <td>6</td>\n",
       "      <td>202</td>\n",
       "      <td>115</td>\n",
       "      <td>368</td>\n",
       "      <td>3.2</td>\n",
       "      <td>5</td>\n",
       "    </tr>\n",
       "    <tr>\n",
       "      <th>3</th>\n",
       "      <td>3</td>\n",
       "      <td>Tyler Huntley*</td>\n",
       "      <td>Utah</td>\n",
       "      <td>Pac-12</td>\n",
       "      <td>14</td>\n",
       "      <td>220</td>\n",
       "      <td>301</td>\n",
       "      <td>73.1</td>\n",
       "      <td>3092</td>\n",
       "      <td>10.3</td>\n",
       "      <td>10.9</td>\n",
       "      <td>19</td>\n",
       "      <td>4</td>\n",
       "      <td>177.6</td>\n",
       "      <td>104</td>\n",
       "      <td>290</td>\n",
       "      <td>2.8</td>\n",
       "      <td>5</td>\n",
       "    </tr>\n",
       "    <tr>\n",
       "      <th>4</th>\n",
       "      <td>4</td>\n",
       "      <td>Tanner Morgan*</td>\n",
       "      <td>Minnesota</td>\n",
       "      <td>Big Ten</td>\n",
       "      <td>13</td>\n",
       "      <td>210</td>\n",
       "      <td>318</td>\n",
       "      <td>66</td>\n",
       "      <td>3253</td>\n",
       "      <td>10.2</td>\n",
       "      <td>11.1</td>\n",
       "      <td>30</td>\n",
       "      <td>7</td>\n",
       "      <td>178.7</td>\n",
       "      <td>61</td>\n",
       "      <td>-57</td>\n",
       "      <td>-0.9</td>\n",
       "      <td>1</td>\n",
       "    </tr>\n",
       "    <tr>\n",
       "      <th>5</th>\n",
       "      <td>5</td>\n",
       "      <td>Trey Lance</td>\n",
       "      <td>North Dakota State</td>\n",
       "      <td>MVC</td>\n",
       "      <td>16</td>\n",
       "      <td>192</td>\n",
       "      <td>287</td>\n",
       "      <td>66.9</td>\n",
       "      <td>2786</td>\n",
       "      <td>9.7</td>\n",
       "      <td>11.7</td>\n",
       "      <td>28</td>\n",
       "      <td>0</td>\n",
       "      <td>180.6</td>\n",
       "      <td>169</td>\n",
       "      <td>1100</td>\n",
       "      <td>6.5</td>\n",
       "      <td>14</td>\n",
       "    </tr>\n",
       "  </tbody>\n",
       "</table>\n",
       "</div>"
      ],
      "text/plain": [
       "0 Rk          Player              School     Conf   G  Cmp PAtt   Pct  PYds  \\\n",
       "1  1    Jalen Hurts*            Oklahoma   Big 12  14  237  340  69.7  3851   \n",
       "2  2     Joe Burrow*                 LSU      SEC  15  402  527  76.3  5671   \n",
       "3  3  Tyler Huntley*                Utah   Pac-12  14  220  301  73.1  3092   \n",
       "4  4  Tanner Morgan*           Minnesota  Big Ten  13  210  318    66  3253   \n",
       "5  5      Trey Lance  North Dakota State      MVC  16  192  287  66.9  2786   \n",
       "\n",
       "0   Y/A  AY/A PTD Int    QBR RAtt  RYds   Avg RTD  \n",
       "1  11.3  12.2  32   8  191.2  233  1298   5.6  20  \n",
       "2  10.8  12.5  60   6    202  115   368   3.2   5  \n",
       "3  10.3  10.9  19   4  177.6  104   290   2.8   5  \n",
       "4  10.2  11.1  30   7  178.7   61   -57  -0.9   1  \n",
       "5   9.7  11.7  28   0  180.6  169  1100   6.5  14  "
      ]
     },
     "execution_count": 4,
     "metadata": {},
     "output_type": "execute_result"
    }
   ],
   "source": [
    "df = df.rename(columns={df.columns[8]: 'PYds', df.columns[15]: 'RYds'})\n",
    "df.columns.values[8] = \"PYds\"\n",
    "df.columns.values[6] = \"PAtt\"\n",
    "df.columns.values[11] = \"PTD\"\n",
    "df.columns.values[13] = \"QBR\"\n",
    "df.columns.values[14] = \"RAtt\"\n",
    "df.columns.values[17] = \"RTD\"\n",
    "\n",
    "\n",
    "\n",
    "\n",
    "df.head()\n"
   ]
  },
  {
   "cell_type": "markdown",
   "id": "61ff944b",
   "metadata": {},
   "source": [
    "### Changing the Data Types\n",
    "\n",
    "As I was attempting to apply calculations and descriptive statistics, I quickly ran into many TypeErrors due to all of the columns having an ObjectType and therefore not being able for analysis quite yet. I used the 'astype' method in pandas to achieve this, specifying which data type I wanted each column to be. "
   ]
  },
  {
   "cell_type": "code",
   "execution_count": 5,
   "id": "02adac54",
   "metadata": {
    "scrolled": false
   },
   "outputs": [
    {
     "data": {
      "text/plain": [
       "0\n",
       "Rk          int32\n",
       "Player     string\n",
       "School     string\n",
       "Conf       string\n",
       "G           int32\n",
       "Cmp         int32\n",
       "PAtt        int32\n",
       "Pct       float64\n",
       "PYds        int32\n",
       "Y/A       float64\n",
       "AY/A      float64\n",
       "PTD         int32\n",
       "Int         int32\n",
       "QBR       float64\n",
       "RAtt        int32\n",
       "RYds        int32\n",
       "Avg       float64\n",
       "RTD         int32\n",
       "dtype: object"
      ]
     },
     "execution_count": 5,
     "metadata": {},
     "output_type": "execute_result"
    }
   ],
   "source": [
    "#Checking each data type is a float, string or integer.\n",
    "#Changing the data types of each column\n",
    "converting_data_types = {\"Rk\": int,\n",
    "                         \"G\" : int,\n",
    "                         \"Cmp\" : int, \n",
    "                         \"PAtt\" : int,\n",
    "                         \"Pct\" : float,\n",
    "                         \"PYds\" : int,\n",
    "                         \"Y/A\" : float,\n",
    "                         \"AY/A\" : float,\n",
    "                         \"PTD\" : int,\n",
    "                         \"Int\" : int,\n",
    "                         \"QBR\" : float,\n",
    "                         \"RAtt\" : int,\n",
    "                         \"RYds\" : int,\n",
    "                         \"Avg\" : float,\n",
    "                         \"RTD\" : int  \n",
    "}\n",
    "df = df.astype(converting_data_types)\n",
    "#Changing the data types of Players, Schools they go to, and the Conferences they're in, to a string. \n",
    "df[\"Player\"] = df[\"Player\"].astype(\"string\")\n",
    "df[\"School\"] = df[\"School\"].astype(\"string\")\n",
    "df[\"Conf\"] = df[\"Conf\"].astype(\"string\")\n",
    "#Checking if the above changes worked\n",
    "df.dtypes\n"
   ]
  },
  {
   "cell_type": "markdown",
   "id": "eedfaeb2",
   "metadata": {},
   "source": [
    "As part of my analysis, I wanted to understand a bit more about my data, using some pandas functions that could help. "
   ]
  },
  {
   "cell_type": "code",
   "execution_count": 6,
   "id": "74fedcb4",
   "metadata": {},
   "outputs": [
    {
     "name": "stdout",
     "output_type": "stream",
     "text": [
      "Average of Passing Yds:2745.51\n",
      "Average of QBR:140.3\n",
      "Average of Passing TDs:20.43\n"
     ]
    }
   ],
   "source": [
    "print(f'Average of Passing Yds:{df[\"PYds\"].mean().round(2)}')\n",
    "print(f'Average of QBR:{df[\"QBR\"].mean().round(2)}')\n",
    "print(f'Average of Passing TDs:{df[\"PTD\"].mean().round(2)}')"
   ]
  },
  {
   "cell_type": "markdown",
   "id": "4f0ab801",
   "metadata": {},
   "source": [
    "Next, I wanted to visualize where each quarterback would be positioned with their QBR and passing yards taken into account. QBR (or quarterback rating) is a rating made by statisticians which accounts for a variety of passing metrics to provide a rating for quarterback performance.    When I had looked into the dataset, there were some quarterbacks who were not ranked as high, but still had relatively high quarterback ratings."
   ]
  },
  {
   "cell_type": "code",
   "execution_count": 7,
   "id": "6a3e56d5",
   "metadata": {
    "scrolled": false
   },
   "outputs": [
    {
     "data": {
      "text/plain": [
       "Text(0, 0.5, 'Passing Yards -Total-')"
      ]
     },
     "execution_count": 7,
     "metadata": {},
     "output_type": "execute_result"
    },
    {
     "data": {
      "image/png": "[encoded data removed]",
      "text/plain": [
       "<Figure size 640x480 with 1 Axes>"
      ]
     },
     "metadata": {},
     "output_type": "display_data"
    }
   ],
   "source": [
    "plt.figure()\n",
    "scatter_passing = plt.scatter(df[\"QBR\"], df[\"PYds\"], color = \"blue\", alpha = 0.5, label = \"Passing Yards\")\n",
    "plt.xlabel(\"QBR\")\n",
    "plt.ylabel(\"Passing Yards -Total-\")"
   ]
  },
  {
   "cell_type": "markdown",
   "id": "9f2fed8c",
   "metadata": {},
   "source": [
    "#### Percentiles\n",
    "\n",
    "Next, to find the percentiles each quarterback falls into, I used the quantile function of pandas to see how where each quarterback would fall. The percentiles were only calculated for passsing yards. "
   ]
  },
  {
   "cell_type": "code",
   "execution_count": 8,
   "id": "ebea2142",
   "metadata": {},
   "outputs": [],
   "source": [
    "median_of_pyds = df[\"PYds\"].quantile(0.5)\n",
    "quarter_of_pyds = df[\"PYds\"].quantile(0.25)\n",
    "threequarters_of_pyds = df[\"PYds\"].quantile(0.75)"
   ]
  },
  {
   "cell_type": "markdown",
   "id": "b2b0d4e2",
   "metadata": {},
   "source": [
    "The graph below, with the percentile lines."
   ]
  },
  {
   "cell_type": "code",
   "execution_count": 9,
   "id": "6001d03d",
   "metadata": {
    "scrolled": false
   },
   "outputs": [
    {
     "data": {
      "image/png": "[encoded data removed]",
      "text/plain": [
       "<Figure size 640x480 with 1 Axes>"
      ]
     },
     "metadata": {},
     "output_type": "display_data"
    }
   ],
   "source": [
    "scatter_passing\n",
    "scatter_passing = plt.scatter(df[\"QBR\"], df[\"PYds\"], color = \"blue\", alpha = 0.5, label = \"Passing Yards\")\n",
    "plt.axhline(y=median_of_pyds, color = \"green\", label = \"50th percentile\")\n",
    "plt.axhline(y=quarter_of_pyds, color = \"red\", label = \"25th percentile\")\n",
    "plt.axhline(y=threequarters_of_pyds, color = \"cyan\", label = \"75th percentile\")\n",
    "plt.xlabel(\"QBR\")\n",
    "plt.ylabel(\"Passing Yards\")\n",
    "plt.show()"
   ]
  },
  {
   "cell_type": "markdown",
   "id": "bf4268b1",
   "metadata": {},
   "source": [
    "Based on the results of the graph above, we can see that most quarterbacks fall between the 25th and 75th percentile with still a decent amount of quarterbacks falling below that line, possibly due to injury, not as many games played or other reasons. A major outlier would be the quarterback in the very top right graph. This quarterback is Joe Burrow, who would later go on to win the Heisman Trophy, the most prestigous award in college football, due to his accolades. "
   ]
  },
  {
   "cell_type": "markdown",
   "id": "2cdad486",
   "metadata": {},
   "source": [
    "#### Grouping by Conference\n",
    "\n",
    "I wanted to group it by conference to see how different quarterbacks performed in their respective conferences and if there were more quarterbacks in one conference that made the top 100 quarterbacks for passing. I used the group by function in pandas to achieve this. "
   ]
  },
  {
   "cell_type": "code",
   "execution_count": 10,
   "id": "4d8dfe7e",
   "metadata": {
    "scrolled": true
   },
   "outputs": [
    {
     "data": {
      "image/png": "[encoded data removed]",
      "text/plain": [
       "<Figure size 900x600 with 1 Axes>"
      ]
     },
     "metadata": {},
     "output_type": "display_data"
    }
   ],
   "source": [
    "conference_grouping = df.groupby(\"Conf\")\n",
    "#Changing fig size so the x labels can be seen clearly\n",
    "plt.figure(figsize=(9,6))\n",
    "#Check this one\n",
    "#Organizing it by conference, having conferencename be the x-axis, while the group_dat being each of the\n",
    "#data points for the passing yards for the respective conferences\n",
    "for conferencename, group_dat in conference_grouping:\n",
    "    plt.scatter(group_dat.Conf, group_dat[\"PYds\"], label=conferencename)\n",
    "\n",
    "plt.show()\n"
   ]
  },
  {
   "cell_type": "markdown",
   "id": "408d8845",
   "metadata": {},
   "source": [
    "Looking at the graph it seems as though the SEC has the most quarterbacks that have made this list but I wanted to use the pandas function mode to check. "
   ]
  },
  {
   "cell_type": "code",
   "execution_count": 11,
   "id": "0d582919",
   "metadata": {},
   "outputs": [
    {
     "name": "stdout",
     "output_type": "stream",
     "text": [
      "Big Ten\n",
      "CUSA\n"
     ]
    }
   ],
   "source": [
    "most_common_conf = df[\"Conf\"].mode()[0]\n",
    "sec_most_common = df[\"Conf\"].mode()[1]\n",
    "print(most_common_conf)\n",
    "print(sec_most_common)"
   ]
  },
  {
   "cell_type": "markdown",
   "id": "abd48f28",
   "metadata": {},
   "source": [
    "Unfortunately, I was incorrect and it seems as though the Big Ten quarterbacks appear the most on this list, instead of SEC quarterbacks. "
   ]
  },
  {
   "cell_type": "markdown",
   "id": "16e8e4cf",
   "metadata": {},
   "source": [
    "Looking at this data, we can understand that although the CUSA for example is not popularized to be as competitive as other conferences, it still contains talented players who make the top 100 passing compared to other conferences. "
   ]
  },
  {
   "cell_type": "markdown",
   "id": "f57cadf0",
   "metadata": {},
   "source": [
    "### Calculating Passer Efficiency Differential"
   ]
  },
  {
   "cell_type": "markdown",
   "id": "b71bed03",
   "metadata": {},
   "source": [
    "Next, I wanted to visualize how well a school performs overall, taking into account a quarterback's QBR while also looking at a team's defensive side. Using the same calculation used for passer rating, a team's *defensive* passer rating can be calculated in how they hold the opposing team's quarterback to the same stats calculated. For example, on the defensive side, in the dataset, passing yards would represent how many passing yards on average, a defense would hold opposing team to. "
   ]
  },
  {
   "cell_type": "markdown",
   "id": "a396bac2",
   "metadata": {},
   "source": [
    "#### Loading in the Defensive Dataset"
   ]
  },
  {
   "cell_type": "code",
   "execution_count": 12,
   "id": "51b16808",
   "metadata": {},
   "outputs": [],
   "source": [
    "defense_dataset = pd.read_csv(\"DataSets/Defense Pass Ratings 2019.csv\")"
   ]
  },
  {
   "cell_type": "markdown",
   "id": "c479dbb4",
   "metadata": {},
   "source": [
    "Below, I'm checking if the data has loaded in correctly. "
   ]
  },
  {
   "cell_type": "code",
   "execution_count": 13,
   "id": "d15b5022",
   "metadata": {
    "scrolled": false
   },
   "outputs": [
    {
     "data": {
      "text/html": [
       "<div>\n",
       "<style scoped>\n",
       "    .dataframe tbody tr th:only-of-type {\n",
       "        vertical-align: middle;\n",
       "    }\n",
       "\n",
       "    .dataframe tbody tr th {\n",
       "        vertical-align: top;\n",
       "    }\n",
       "\n",
       "    .dataframe thead th {\n",
       "        text-align: right;\n",
       "    }\n",
       "</style>\n",
       "<table border=\"1\" class=\"dataframe\">\n",
       "  <thead>\n",
       "    <tr style=\"text-align: right;\">\n",
       "      <th></th>\n",
       "      <th>Rk</th>\n",
       "      <th>School</th>\n",
       "      <th>G</th>\n",
       "      <th>Pts</th>\n",
       "      <th>Cmp</th>\n",
       "      <th>Att</th>\n",
       "      <th>Pct</th>\n",
       "      <th>Yds</th>\n",
       "      <th>TD</th>\n",
       "      <th>Att</th>\n",
       "      <th>...</th>\n",
       "      <th>Avg</th>\n",
       "      <th>Pass</th>\n",
       "      <th>Rush</th>\n",
       "      <th>Pen</th>\n",
       "      <th>Tot</th>\n",
       "      <th>No.</th>\n",
       "      <th>Yds</th>\n",
       "      <th>Fum</th>\n",
       "      <th>Int</th>\n",
       "      <th>TO</th>\n",
       "    </tr>\n",
       "  </thead>\n",
       "  <tbody>\n",
       "    <tr>\n",
       "      <th>1</th>\n",
       "      <td>1</td>\n",
       "      <td>Georgia</td>\n",
       "      <td>14</td>\n",
       "      <td>12.6</td>\n",
       "      <td>20.4</td>\n",
       "      <td>35.8</td>\n",
       "      <td>56.9</td>\n",
       "      <td>201.1</td>\n",
       "      <td>1.1</td>\n",
       "      <td>28.4</td>\n",
       "      <td>...</td>\n",
       "      <td>4.3</td>\n",
       "      <td>9.1</td>\n",
       "      <td>4.9</td>\n",
       "      <td>1.9</td>\n",
       "      <td>15.8</td>\n",
       "      <td>6.7</td>\n",
       "      <td>50.9</td>\n",
       "      <td>0.6</td>\n",
       "      <td>0.6</td>\n",
       "      <td>1.1</td>\n",
       "    </tr>\n",
       "    <tr>\n",
       "      <th>2</th>\n",
       "      <td>2</td>\n",
       "      <td>San Diego State</td>\n",
       "      <td>13</td>\n",
       "      <td>12.7</td>\n",
       "      <td>20.4</td>\n",
       "      <td>34.5</td>\n",
       "      <td>59.2</td>\n",
       "      <td>212.3</td>\n",
       "      <td>0.8</td>\n",
       "      <td>27.3</td>\n",
       "      <td>...</td>\n",
       "      <td>4.7</td>\n",
       "      <td>8.8</td>\n",
       "      <td>5.2</td>\n",
       "      <td>1.3</td>\n",
       "      <td>15.2</td>\n",
       "      <td>5.6</td>\n",
       "      <td>44.4</td>\n",
       "      <td>0.7</td>\n",
       "      <td>1.4</td>\n",
       "      <td>2.1</td>\n",
       "    </tr>\n",
       "    <tr>\n",
       "      <th>3</th>\n",
       "      <td>3</td>\n",
       "      <td>Clemson</td>\n",
       "      <td>15</td>\n",
       "      <td>13.5</td>\n",
       "      <td>15.4</td>\n",
       "      <td>28.9</td>\n",
       "      <td>53.3</td>\n",
       "      <td>172.3</td>\n",
       "      <td>0.9</td>\n",
       "      <td>35.6</td>\n",
       "      <td>...</td>\n",
       "      <td>4.5</td>\n",
       "      <td>7.2</td>\n",
       "      <td>6.1</td>\n",
       "      <td>1.3</td>\n",
       "      <td>14.6</td>\n",
       "      <td>5.8</td>\n",
       "      <td>54.9</td>\n",
       "      <td>0.7</td>\n",
       "      <td>1.3</td>\n",
       "      <td>2</td>\n",
       "    </tr>\n",
       "    <tr>\n",
       "      <th>4</th>\n",
       "      <td>4</td>\n",
       "      <td>Ohio State</td>\n",
       "      <td>14</td>\n",
       "      <td>13.7</td>\n",
       "      <td>14.3</td>\n",
       "      <td>28.1</td>\n",
       "      <td>50.9</td>\n",
       "      <td>156</td>\n",
       "      <td>0.6</td>\n",
       "      <td>34.6</td>\n",
       "      <td>...</td>\n",
       "      <td>4.1</td>\n",
       "      <td>6.4</td>\n",
       "      <td>7.1</td>\n",
       "      <td>2.1</td>\n",
       "      <td>15.5</td>\n",
       "      <td>5.4</td>\n",
       "      <td>47.5</td>\n",
       "      <td>0.7</td>\n",
       "      <td>1.1</td>\n",
       "      <td>1.8</td>\n",
       "    </tr>\n",
       "    <tr>\n",
       "      <th>5</th>\n",
       "      <td>5</td>\n",
       "      <td>Iowa</td>\n",
       "      <td>13</td>\n",
       "      <td>14</td>\n",
       "      <td>19.1</td>\n",
       "      <td>32.1</td>\n",
       "      <td>59.5</td>\n",
       "      <td>195.7</td>\n",
       "      <td>1.1</td>\n",
       "      <td>32.1</td>\n",
       "      <td>...</td>\n",
       "      <td>4.8</td>\n",
       "      <td>9.4</td>\n",
       "      <td>6.4</td>\n",
       "      <td>0.9</td>\n",
       "      <td>16.6</td>\n",
       "      <td>5.5</td>\n",
       "      <td>46.1</td>\n",
       "      <td>0.7</td>\n",
       "      <td>0.9</td>\n",
       "      <td>1.6</td>\n",
       "    </tr>\n",
       "  </tbody>\n",
       "</table>\n",
       "<p>5 rows × 25 columns</p>\n",
       "</div>"
      ],
      "text/plain": [
       "0 Rk           School   G   Pts   Cmp   Att   Pct    Yds   TD   Att  ...  Avg  \\\n",
       "1  1          Georgia  14  12.6  20.4  35.8  56.9  201.1  1.1  28.4  ...  4.3   \n",
       "2  2  San Diego State  13  12.7  20.4  34.5  59.2  212.3  0.8  27.3  ...  4.7   \n",
       "3  3          Clemson  15  13.5  15.4  28.9  53.3  172.3  0.9  35.6  ...  4.5   \n",
       "4  4       Ohio State  14  13.7  14.3  28.1  50.9    156  0.6  34.6  ...  4.1   \n",
       "5  5             Iowa  13    14  19.1  32.1  59.5  195.7  1.1  32.1  ...  4.8   \n",
       "\n",
       "0 Pass Rush  Pen   Tot  No.   Yds  Fum  Int   TO  \n",
       "1  9.1  4.9  1.9  15.8  6.7  50.9  0.6  0.6  1.1  \n",
       "2  8.8  5.2  1.3  15.2  5.6  44.4  0.7  1.4  2.1  \n",
       "3  7.2  6.1  1.3  14.6  5.8  54.9  0.7  1.3    2  \n",
       "4  6.4  7.1  2.1  15.5  5.4  47.5  0.7  1.1  1.8  \n",
       "5  9.4  6.4  0.9  16.6  5.5  46.1  0.7  0.9  1.6  \n",
       "\n",
       "[5 rows x 25 columns]"
      ]
     },
     "execution_count": 13,
     "metadata": {},
     "output_type": "execute_result"
    }
   ],
   "source": [
    "defense_dataset.columns = defense_dataset.iloc[0]\n",
    "defense_dataset = defense_dataset[1:]\n",
    "\n",
    "defense_dataset.head()"
   ]
  },
  {
   "cell_type": "markdown",
   "id": "b2fc2d94",
   "metadata": {},
   "source": [
    "#### Changing the Data Types\n",
    "\n",
    "As I had done above, the data types in the defense dataset needed to be changed so they could be used for calculation. "
   ]
  },
  {
   "cell_type": "code",
   "execution_count": 14,
   "id": "799b2794",
   "metadata": {
    "scrolled": true
   },
   "outputs": [
    {
     "data": {
      "text/plain": [
       "0\n",
       "Rk         object\n",
       "School     string\n",
       "G          object\n",
       "Pts        object\n",
       "Cmp       float64\n",
       "PAtt      float64\n",
       "Pct       float64\n",
       "PYds      float64\n",
       "PTD       float64\n",
       "Att        object\n",
       "Yds        object\n",
       "Avg        object\n",
       "TD         object\n",
       "Plays      object\n",
       "Yds        object\n",
       "Avg        object\n",
       "Pass       object\n",
       "Rush       object\n",
       "Pen        object\n",
       "Tot        object\n",
       "No.        object\n",
       "Yds        object\n",
       "Fum        object\n",
       "Int       float64\n",
       "TO         object\n",
       "dtype: object"
      ]
     },
     "execution_count": 14,
     "metadata": {},
     "output_type": "execute_result"
    }
   ],
   "source": [
    "\n",
    "#Changing the column names of the defensive dataset, so Passing Yards are differentiated from Rushing Yards\n",
    "defense_dataset.columns.values[7] = \"PYds\"\n",
    "defense_dataset.columns.values[8] = \"PTD\"\n",
    "defense_dataset.columns.values[5] = \"PAtt\"\n",
    "converting_defense_datatypes = {\n",
    "                        \"Cmp\": float,\n",
    "                         \"PAtt\" : float,\n",
    "                         \"Pct\" : float, \n",
    "                         \"PYds\" : float,\n",
    "                         \"PTD\" : float,  \n",
    "                        \"Int\" : float\n",
    "}\n",
    "\n",
    "defense_dataset = defense_dataset.astype(converting_defense_datatypes)\n",
    "\n",
    "defense_dataset.head()\n",
    "\n",
    "\n",
    "\n",
    "defense_dataset[\"School\"] = defense_dataset[\"School\"].astype(\"string\")\n",
    "\n",
    "defense_dataset.dtypes\n",
    "\n"
   ]
  },
  {
   "cell_type": "markdown",
   "id": "ce61c66d",
   "metadata": {},
   "source": [
    "#### Applying the DPR formula\n",
    "\n",
    "Next, I applied the DPR formula to the defensive dataset, which uses the Passing Yards, Passing Touchdowns, Completion Percentage and Interceptions allowed or taken to assign each defense a rating. "
   ]
  },
  {
   "cell_type": "code",
   "execution_count": 15,
   "id": "43f59f97",
   "metadata": {},
   "outputs": [
    {
     "data": {
      "text/html": [
       "<div>\n",
       "<style scoped>\n",
       "    .dataframe tbody tr th:only-of-type {\n",
       "        vertical-align: middle;\n",
       "    }\n",
       "\n",
       "    .dataframe tbody tr th {\n",
       "        vertical-align: top;\n",
       "    }\n",
       "\n",
       "    .dataframe thead th {\n",
       "        text-align: right;\n",
       "    }\n",
       "</style>\n",
       "<table border=\"1\" class=\"dataframe\">\n",
       "  <thead>\n",
       "    <tr style=\"text-align: right;\">\n",
       "      <th></th>\n",
       "      <th>Rk</th>\n",
       "      <th>School</th>\n",
       "      <th>G</th>\n",
       "      <th>Pts</th>\n",
       "      <th>Cmp</th>\n",
       "      <th>PAtt</th>\n",
       "      <th>Pct</th>\n",
       "      <th>PYds</th>\n",
       "      <th>PTD</th>\n",
       "      <th>Att</th>\n",
       "      <th>...</th>\n",
       "      <th>Pass</th>\n",
       "      <th>Rush</th>\n",
       "      <th>Pen</th>\n",
       "      <th>Tot</th>\n",
       "      <th>No.</th>\n",
       "      <th>Yds</th>\n",
       "      <th>Fum</th>\n",
       "      <th>Int</th>\n",
       "      <th>TO</th>\n",
       "      <th>DPR</th>\n",
       "    </tr>\n",
       "  </thead>\n",
       "  <tbody>\n",
       "    <tr>\n",
       "      <th>1</th>\n",
       "      <td>1</td>\n",
       "      <td>Georgia</td>\n",
       "      <td>14</td>\n",
       "      <td>12.6</td>\n",
       "      <td>20.4</td>\n",
       "      <td>35.8</td>\n",
       "      <td>56.9</td>\n",
       "      <td>201.1</td>\n",
       "      <td>1.1</td>\n",
       "      <td>28.4</td>\n",
       "      <td>...</td>\n",
       "      <td>9.1</td>\n",
       "      <td>4.9</td>\n",
       "      <td>1.9</td>\n",
       "      <td>15.8</td>\n",
       "      <td>6.7</td>\n",
       "      <td>50.9</td>\n",
       "      <td>0.6</td>\n",
       "      <td>0.6</td>\n",
       "      <td>1.1</td>\n",
       "      <td>110.96</td>\n",
       "    </tr>\n",
       "    <tr>\n",
       "      <th>2</th>\n",
       "      <td>2</td>\n",
       "      <td>San Diego State</td>\n",
       "      <td>13</td>\n",
       "      <td>12.7</td>\n",
       "      <td>20.4</td>\n",
       "      <td>34.5</td>\n",
       "      <td>59.2</td>\n",
       "      <td>212.3</td>\n",
       "      <td>0.8</td>\n",
       "      <td>27.3</td>\n",
       "      <td>...</td>\n",
       "      <td>8.8</td>\n",
       "      <td>5.2</td>\n",
       "      <td>1.3</td>\n",
       "      <td>15.2</td>\n",
       "      <td>5.6</td>\n",
       "      <td>44.4</td>\n",
       "      <td>0.7</td>\n",
       "      <td>1.4</td>\n",
       "      <td>2.1</td>\n",
       "      <td>110.36</td>\n",
       "    </tr>\n",
       "    <tr>\n",
       "      <th>3</th>\n",
       "      <td>3</td>\n",
       "      <td>Clemson</td>\n",
       "      <td>15</td>\n",
       "      <td>13.5</td>\n",
       "      <td>15.4</td>\n",
       "      <td>28.9</td>\n",
       "      <td>53.3</td>\n",
       "      <td>172.3</td>\n",
       "      <td>0.9</td>\n",
       "      <td>35.6</td>\n",
       "      <td>...</td>\n",
       "      <td>7.2</td>\n",
       "      <td>6.1</td>\n",
       "      <td>1.3</td>\n",
       "      <td>14.6</td>\n",
       "      <td>5.8</td>\n",
       "      <td>54.9</td>\n",
       "      <td>0.7</td>\n",
       "      <td>1.3</td>\n",
       "      <td>2</td>\n",
       "      <td>104.65</td>\n",
       "    </tr>\n",
       "    <tr>\n",
       "      <th>4</th>\n",
       "      <td>4</td>\n",
       "      <td>Ohio State</td>\n",
       "      <td>14</td>\n",
       "      <td>13.7</td>\n",
       "      <td>14.3</td>\n",
       "      <td>28.1</td>\n",
       "      <td>50.9</td>\n",
       "      <td>156.0</td>\n",
       "      <td>0.6</td>\n",
       "      <td>34.6</td>\n",
       "      <td>...</td>\n",
       "      <td>6.4</td>\n",
       "      <td>7.1</td>\n",
       "      <td>2.1</td>\n",
       "      <td>15.5</td>\n",
       "      <td>5.4</td>\n",
       "      <td>47.5</td>\n",
       "      <td>0.7</td>\n",
       "      <td>1.1</td>\n",
       "      <td>1.8</td>\n",
       "      <td>96.74</td>\n",
       "    </tr>\n",
       "    <tr>\n",
       "      <th>5</th>\n",
       "      <td>5</td>\n",
       "      <td>Iowa</td>\n",
       "      <td>13</td>\n",
       "      <td>14</td>\n",
       "      <td>19.1</td>\n",
       "      <td>32.1</td>\n",
       "      <td>59.5</td>\n",
       "      <td>195.7</td>\n",
       "      <td>1.1</td>\n",
       "      <td>32.1</td>\n",
       "      <td>...</td>\n",
       "      <td>9.4</td>\n",
       "      <td>6.4</td>\n",
       "      <td>0.9</td>\n",
       "      <td>16.6</td>\n",
       "      <td>5.5</td>\n",
       "      <td>46.1</td>\n",
       "      <td>0.7</td>\n",
       "      <td>0.9</td>\n",
       "      <td>1.6</td>\n",
       "      <td>116.41</td>\n",
       "    </tr>\n",
       "  </tbody>\n",
       "</table>\n",
       "<p>5 rows × 26 columns</p>\n",
       "</div>"
      ],
      "text/plain": [
       "0 Rk           School   G   Pts   Cmp  PAtt   Pct   PYds  PTD   Att  ... Pass  \\\n",
       "1  1          Georgia  14  12.6  20.4  35.8  56.9  201.1  1.1  28.4  ...  9.1   \n",
       "2  2  San Diego State  13  12.7  20.4  34.5  59.2  212.3  0.8  27.3  ...  8.8   \n",
       "3  3          Clemson  15  13.5  15.4  28.9  53.3  172.3  0.9  35.6  ...  7.2   \n",
       "4  4       Ohio State  14  13.7  14.3  28.1  50.9  156.0  0.6  34.6  ...  6.4   \n",
       "5  5             Iowa  13    14  19.1  32.1  59.5  195.7  1.1  32.1  ...  9.4   \n",
       "\n",
       "0 Rush  Pen   Tot  No.   Yds  Fum  Int   TO     DPR  \n",
       "1  4.9  1.9  15.8  6.7  50.9  0.6  0.6  1.1  110.96  \n",
       "2  5.2  1.3  15.2  5.6  44.4  0.7  1.4  2.1  110.36  \n",
       "3  6.1  1.3  14.6  5.8  54.9  0.7  1.3    2  104.65  \n",
       "4  7.1  2.1  15.5  5.4  47.5  0.7  1.1  1.8   96.74  \n",
       "5  6.4  0.9  16.6  5.5  46.1  0.7  0.9  1.6  116.41  \n",
       "\n",
       "[5 rows x 26 columns]"
      ]
     },
     "execution_count": 15,
     "metadata": {},
     "output_type": "execute_result"
    }
   ],
   "source": [
    "#Calculating Defensive  Passer Rating uing the columns \n",
    "#Adding a column to the end of the dataset including the following calculation\n",
    "defense_dataset[\"DPR\"] = ((8.4 * defense_dataset[\"PYds\"]) +(330 * defense_dataset[\"PTD\"]) + (100 * defense_dataset[\"Cmp\"]) - (200 * defense_dataset[\"Int\"])) / (defense_dataset[\"PAtt\"])\n",
    "defense_dataset[\"DPR\"] = defense_dataset[\"DPR\"].round(2)\n",
    "\n",
    "defense_dataset.head()"
   ]
  },
  {
   "cell_type": "markdown",
   "id": "79fc8353",
   "metadata": {},
   "source": [
    "I found that it would be important to filter out the schools by the schools which appear in both lists, as the defense dataset included more schools that were not in the top 100 passing list we analyzed earlier. Using the pandas merge function, I was able to do this. "
   ]
  },
  {
   "cell_type": "code",
   "execution_count": 16,
   "id": "f9df9801",
   "metadata": {
    "scrolled": true
   },
   "outputs": [
    {
     "data": {
      "text/html": [
       "<div>\n",
       "<style scoped>\n",
       "    .dataframe tbody tr th:only-of-type {\n",
       "        vertical-align: middle;\n",
       "    }\n",
       "\n",
       "    .dataframe tbody tr th {\n",
       "        vertical-align: top;\n",
       "    }\n",
       "\n",
       "    .dataframe thead th {\n",
       "        text-align: right;\n",
       "    }\n",
       "</style>\n",
       "<table border=\"1\" class=\"dataframe\">\n",
       "  <thead>\n",
       "    <tr style=\"text-align: right;\">\n",
       "      <th></th>\n",
       "      <th>Rk_x</th>\n",
       "      <th>Player</th>\n",
       "      <th>School</th>\n",
       "      <th>Conf</th>\n",
       "      <th>G_x</th>\n",
       "      <th>Cmp_x</th>\n",
       "      <th>PAtt_x</th>\n",
       "      <th>Pct_x</th>\n",
       "      <th>PYds_x</th>\n",
       "      <th>Y/A</th>\n",
       "      <th>...</th>\n",
       "      <th>Pass</th>\n",
       "      <th>Rush</th>\n",
       "      <th>Pen</th>\n",
       "      <th>Tot</th>\n",
       "      <th>No.</th>\n",
       "      <th>Yds</th>\n",
       "      <th>Fum</th>\n",
       "      <th>Int_y</th>\n",
       "      <th>TO</th>\n",
       "      <th>DPR</th>\n",
       "    </tr>\n",
       "  </thead>\n",
       "  <tbody>\n",
       "    <tr>\n",
       "      <th>0</th>\n",
       "      <td>1</td>\n",
       "      <td>Jalen Hurts*</td>\n",
       "      <td>Oklahoma</td>\n",
       "      <td>Big 12</td>\n",
       "      <td>14</td>\n",
       "      <td>237</td>\n",
       "      <td>340</td>\n",
       "      <td>69.7</td>\n",
       "      <td>3851</td>\n",
       "      <td>11.3</td>\n",
       "      <td>...</td>\n",
       "      <td>9.9</td>\n",
       "      <td>7.1</td>\n",
       "      <td>2.9</td>\n",
       "      <td>19.8</td>\n",
       "      <td>5.7</td>\n",
       "      <td>44.4</td>\n",
       "      <td>0.3</td>\n",
       "      <td>0.5</td>\n",
       "      <td>0.8</td>\n",
       "      <td>138.86</td>\n",
       "    </tr>\n",
       "    <tr>\n",
       "      <th>1</th>\n",
       "      <td>2</td>\n",
       "      <td>Joe Burrow*</td>\n",
       "      <td>LSU</td>\n",
       "      <td>SEC</td>\n",
       "      <td>15</td>\n",
       "      <td>402</td>\n",
       "      <td>527</td>\n",
       "      <td>76.3</td>\n",
       "      <td>5671</td>\n",
       "      <td>10.8</td>\n",
       "      <td>...</td>\n",
       "      <td>10.5</td>\n",
       "      <td>5.8</td>\n",
       "      <td>2.5</td>\n",
       "      <td>18.9</td>\n",
       "      <td>6.6</td>\n",
       "      <td>50.7</td>\n",
       "      <td>0.3</td>\n",
       "      <td>1.1</td>\n",
       "      <td>1.5</td>\n",
       "      <td>110.65</td>\n",
       "    </tr>\n",
       "    <tr>\n",
       "      <th>2</th>\n",
       "      <td>3</td>\n",
       "      <td>Tyler Huntley*</td>\n",
       "      <td>Utah</td>\n",
       "      <td>Pac-12</td>\n",
       "      <td>14</td>\n",
       "      <td>220</td>\n",
       "      <td>301</td>\n",
       "      <td>73.1</td>\n",
       "      <td>3092</td>\n",
       "      <td>10.3</td>\n",
       "      <td>...</td>\n",
       "      <td>8.3</td>\n",
       "      <td>5.1</td>\n",
       "      <td>1.5</td>\n",
       "      <td>14.9</td>\n",
       "      <td>5.4</td>\n",
       "      <td>47.2</td>\n",
       "      <td>0.6</td>\n",
       "      <td>1.0</td>\n",
       "      <td>1.6</td>\n",
       "      <td>112.45</td>\n",
       "    </tr>\n",
       "    <tr>\n",
       "      <th>3</th>\n",
       "      <td>4</td>\n",
       "      <td>Tanner Morgan*</td>\n",
       "      <td>Minnesota</td>\n",
       "      <td>Big Ten</td>\n",
       "      <td>13</td>\n",
       "      <td>210</td>\n",
       "      <td>318</td>\n",
       "      <td>66.0</td>\n",
       "      <td>3253</td>\n",
       "      <td>10.2</td>\n",
       "      <td>...</td>\n",
       "      <td>9.2</td>\n",
       "      <td>7.1</td>\n",
       "      <td>1.4</td>\n",
       "      <td>17.6</td>\n",
       "      <td>5.2</td>\n",
       "      <td>42.6</td>\n",
       "      <td>0.4</td>\n",
       "      <td>1.1</td>\n",
       "      <td>1.5</td>\n",
       "      <td>117.46</td>\n",
       "    </tr>\n",
       "    <tr>\n",
       "      <th>4</th>\n",
       "      <td>6</td>\n",
       "      <td>Brady White*</td>\n",
       "      <td>Memphis</td>\n",
       "      <td>American</td>\n",
       "      <td>14</td>\n",
       "      <td>269</td>\n",
       "      <td>420</td>\n",
       "      <td>64.0</td>\n",
       "      <td>4014</td>\n",
       "      <td>9.6</td>\n",
       "      <td>...</td>\n",
       "      <td>8.6</td>\n",
       "      <td>9.6</td>\n",
       "      <td>2</td>\n",
       "      <td>20.1</td>\n",
       "      <td>6.5</td>\n",
       "      <td>57.3</td>\n",
       "      <td>0.6</td>\n",
       "      <td>0.8</td>\n",
       "      <td>1.4</td>\n",
       "      <td>115.54</td>\n",
       "    </tr>\n",
       "  </tbody>\n",
       "</table>\n",
       "<p>5 rows × 43 columns</p>\n",
       "</div>"
      ],
      "text/plain": [
       "0  Rk_x          Player     School      Conf  G_x  Cmp_x  PAtt_x  Pct_x  \\\n",
       "0     1    Jalen Hurts*   Oklahoma    Big 12   14    237     340   69.7   \n",
       "1     2     Joe Burrow*        LSU       SEC   15    402     527   76.3   \n",
       "2     3  Tyler Huntley*       Utah    Pac-12   14    220     301   73.1   \n",
       "3     4  Tanner Morgan*  Minnesota   Big Ten   13    210     318   66.0   \n",
       "4     6    Brady White*    Memphis  American   14    269     420   64.0   \n",
       "\n",
       "0  PYds_x   Y/A  ...  Pass  Rush  Pen   Tot  No.   Yds  Fum  Int_y   TO  \\\n",
       "0    3851  11.3  ...   9.9   7.1  2.9  19.8  5.7  44.4  0.3    0.5  0.8   \n",
       "1    5671  10.8  ...  10.5   5.8  2.5  18.9  6.6  50.7  0.3    1.1  1.5   \n",
       "2    3092  10.3  ...   8.3   5.1  1.5  14.9  5.4  47.2  0.6    1.0  1.6   \n",
       "3    3253  10.2  ...   9.2   7.1  1.4  17.6  5.2  42.6  0.4    1.1  1.5   \n",
       "4    4014   9.6  ...   8.6   9.6    2  20.1  6.5  57.3  0.6    0.8  1.4   \n",
       "\n",
       "0     DPR  \n",
       "0  138.86  \n",
       "1  110.65  \n",
       "2  112.45  \n",
       "3  117.46  \n",
       "4  115.54  \n",
       "\n",
       "[5 rows x 43 columns]"
      ]
     },
     "execution_count": 16,
     "metadata": {},
     "output_type": "execute_result"
    }
   ],
   "source": [
    "merging_datasets = pd.merge(df, defense_dataset, on = \"School\", how = \"inner\")\n",
    "\n",
    "merging_datasets.head()\n"
   ]
  },
  {
   "cell_type": "markdown",
   "id": "7150cce8",
   "metadata": {},
   "source": [
    "Many of the columns that were in the filtered out dataset were not a part of the analysis so I created a new dataset with just the columns which were neccesary. The School, that school's QBR and the school's DPR were taken. "
   ]
  },
  {
   "cell_type": "code",
   "execution_count": 17,
   "id": "3715989d",
   "metadata": {
    "scrolled": true
   },
   "outputs": [
    {
     "data": {
      "text/html": [
       "<div>\n",
       "<style scoped>\n",
       "    .dataframe tbody tr th:only-of-type {\n",
       "        vertical-align: middle;\n",
       "    }\n",
       "\n",
       "    .dataframe tbody tr th {\n",
       "        vertical-align: top;\n",
       "    }\n",
       "\n",
       "    .dataframe thead th {\n",
       "        text-align: right;\n",
       "    }\n",
       "</style>\n",
       "<table border=\"1\" class=\"dataframe\">\n",
       "  <thead>\n",
       "    <tr style=\"text-align: right;\">\n",
       "      <th></th>\n",
       "      <th>School</th>\n",
       "      <th>QBR</th>\n",
       "      <th>DPR</th>\n",
       "    </tr>\n",
       "  </thead>\n",
       "  <tbody>\n",
       "    <tr>\n",
       "      <th>0</th>\n",
       "      <td>Oklahoma</td>\n",
       "      <td>191.2</td>\n",
       "      <td>138.86</td>\n",
       "    </tr>\n",
       "    <tr>\n",
       "      <th>1</th>\n",
       "      <td>LSU</td>\n",
       "      <td>202.0</td>\n",
       "      <td>110.65</td>\n",
       "    </tr>\n",
       "    <tr>\n",
       "      <th>2</th>\n",
       "      <td>Utah</td>\n",
       "      <td>177.6</td>\n",
       "      <td>112.45</td>\n",
       "    </tr>\n",
       "    <tr>\n",
       "      <th>3</th>\n",
       "      <td>Minnesota</td>\n",
       "      <td>178.7</td>\n",
       "      <td>117.46</td>\n",
       "    </tr>\n",
       "    <tr>\n",
       "      <th>4</th>\n",
       "      <td>Memphis</td>\n",
       "      <td>165.0</td>\n",
       "      <td>115.54</td>\n",
       "    </tr>\n",
       "  </tbody>\n",
       "</table>\n",
       "</div>"
      ],
      "text/plain": [
       "0     School    QBR     DPR\n",
       "0   Oklahoma  191.2  138.86\n",
       "1        LSU  202.0  110.65\n",
       "2       Utah  177.6  112.45\n",
       "3  Minnesota  178.7  117.46\n",
       "4    Memphis  165.0  115.54"
      ]
     },
     "execution_count": 17,
     "metadata": {},
     "output_type": "execute_result"
    }
   ],
   "source": [
    "data_with_rating = merging_datasets[['School', 'QBR', 'DPR']]\n",
    "data_with_rating.head()"
   ]
  },
  {
   "cell_type": "markdown",
   "id": "bd430d26",
   "metadata": {},
   "source": [
    "Using the formula applied above, we can graph the passer efficieny differential"
   ]
  },
  {
   "cell_type": "markdown",
   "id": "291f2911",
   "metadata": {},
   "source": [
    "I was interested where Baylor falls on this list as 2019 was a good year for Baylor football!"
   ]
  },
  {
   "cell_type": "code",
   "execution_count": 18,
   "id": "a682546a",
   "metadata": {},
   "outputs": [
    {
     "data": {
      "text/html": [
       "<div>\n",
       "<style scoped>\n",
       "    .dataframe tbody tr th:only-of-type {\n",
       "        vertical-align: middle;\n",
       "    }\n",
       "\n",
       "    .dataframe tbody tr th {\n",
       "        vertical-align: top;\n",
       "    }\n",
       "\n",
       "    .dataframe thead th {\n",
       "        text-align: right;\n",
       "    }\n",
       "</style>\n",
       "<table border=\"1\" class=\"dataframe\">\n",
       "  <thead>\n",
       "    <tr style=\"text-align: right;\">\n",
       "      <th></th>\n",
       "      <th>School</th>\n",
       "      <th>QBR</th>\n",
       "      <th>DPR</th>\n",
       "    </tr>\n",
       "  </thead>\n",
       "  <tbody>\n",
       "    <tr>\n",
       "      <th>30</th>\n",
       "      <td>Baylor</td>\n",
       "      <td>147.0</td>\n",
       "      <td>116.79</td>\n",
       "    </tr>\n",
       "  </tbody>\n",
       "</table>\n",
       "</div>"
      ],
      "text/plain": [
       "0   School    QBR     DPR\n",
       "30  Baylor  147.0  116.79"
      ]
     },
     "execution_count": 18,
     "metadata": {},
     "output_type": "execute_result"
    }
   ],
   "source": [
    "#Finding where Baylor is on the list\n",
    "data_with_rating.loc[data_with_rating['School'] == 'Baylor']"
   ]
  },
  {
   "cell_type": "code",
   "execution_count": 19,
   "id": "cfecdee8",
   "metadata": {
    "scrolled": true
   },
   "outputs": [
    {
     "data": {
      "text/plain": [
       "Text(105, 115, 'Baylor')"
      ]
     },
     "execution_count": 19,
     "metadata": {},
     "output_type": "execute_result"
    },
    {
     "data": {
      "image/png": "[encoded data removed]",
      "text/plain": [
       "<Figure size 640x480 with 1 Axes>"
      ]
     },
     "metadata": {},
     "output_type": "display_data"
    }
   ],
   "source": [
    "plt.figure()\n",
    "plt.scatter(data_with_rating[\"DPR\"], data_with_rating[\"QBR\"], color = \"red\", alpha = 0.5, label = \"Passing Efficiency Differential\")\n",
    "\n",
    "plt.xlabel(\"Defensive Passer Rating\")\n",
    "plt.ylabel(\"Quarterback Rating\")\n",
    "plt.title(\"Overall Passing Efficiency Differential for Top 100 Teams\")\n",
    "\n",
    "plt.annotate(\"LSU\", xy = (110.65, 202.0), xytext = (113.0,200.0))\n",
    "plt.annotate(\"Oklahoma\", xy = (138.86, 191.2), xytext = (141.0, 190.0))\n",
    "plt.annotate(\"Ohio State\", xy = (96.74, 181.4), xytext = (99, 180))\n",
    "plt.annotate(\"Baylor\", xy = (116.79, 147.0), xytext = (105, 115), arrowprops=dict(arrowstyle=\"->\", color = \"grey\", connectionstyle=\"angle3,angleA=0,angleB=-90\"))"
   ]
  },
  {
   "cell_type": "markdown",
   "id": "5037c4c2",
   "metadata": {},
   "source": [
    "As can be seen, the data varies in terms of spread, as schools fall in the middle of the graph meaning their quarterback rating is decently high while their defense also performs well. An important data point to notice would be LSU, labeled in the top left. LSU has a high quarterback rating while also having a low defensive passer rating, suggesting a prolific offense, while having a strong defense as they were able to limit their opposition's quarterbacks. Another school that isn't as striking but certainly one to note, is Ohio State, which has the lowest defensive passer rating among all the schools in the list, possibly indicating success. Oklahoma also falls on this list with a high QBR but not as prominent of a defense, still a possible indicator of success. Upon further research, these three teams had immense success overall, achieving close to undefeated seasons as well. LSU ended its season being ranked #1 in the country, Ohio State #3, while Oklahoma dropped to #7 following a loss in the College Football Playoff. It is important to note that these three teams also made the 2020 College Playoffs. "
   ]
  },
  {
   "cell_type": "markdown",
   "id": "0726c00a",
   "metadata": {},
   "source": [
    "## Conclusion\n",
    "\n",
    "With the data above, we were able to see the spread of different quarterbacks during the 2019 College Football Season. I found the conferences which had the most passing leaders and where in the distribution the quarterbacks lie relative to percentiles made around their passing yards. Using data visualization, I was able to see the overall passing efficiency differential for the top 100 schools by taking each team's QBR and calculating the defensive DPR using the defense dataset. In the future, I would like to use the data from quarterbacks in college to predict their success in the NFL if they were drafted. I also would like to use the offense and defensive dataset from a season and see if it could predict team success for the following year. Overall, this project was very interesting as this 2019 season got me interested in college football and the analytics side of sports. "
   ]
  },
  {
   "cell_type": "markdown",
   "id": "aeb67f08",
   "metadata": {},
   "source": [
    "### Works Cited\n",
    "\n",
    "- DPR Formula : https://en.wikipedia.org/wiki/Passer_rating\n",
    "- Sports Reference: https://www.sports-reference.com/cfb/years/2019-passing.html\n",
    "- AP Poll 2019: https://sportsdata.usatoday.com/football/ncaaf/ap-poll/2019-2020 "
   ]
  }
 ],
 "metadata": {
  "kernelspec": {
   "display_name": "Python 3 (ipykernel)",
   "language": "python",
   "name": "python3"
  },
  "language_info": {
   "codemirror_mode": {
    "name": "ipython",
    "version": 3
   },
   "file_extension": ".py",
   "mimetype": "text/x-python",
   "name": "python",
   "nbconvert_exporter": "python",
   "pygments_lexer": "ipython3",
   "version": "3.10.9"
  }
 },
 "nbformat": 4,
 "nbformat_minor": 5
}
